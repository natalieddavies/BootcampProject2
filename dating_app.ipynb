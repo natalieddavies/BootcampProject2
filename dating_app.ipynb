{
 "cells": [
  {
   "cell_type": "code",
   "execution_count": 14,
   "metadata": {},
   "outputs": [],
   "source": [
    "# Modules\n",
    "import os\n",
    "import csv\n",
    "import pandas as pd"
   ]
  },
  {
   "cell_type": "code",
   "execution_count": 15,
   "metadata": {},
   "outputs": [
    {
     "output_type": "execute_result",
     "data": {
      "text/plain": "  age       body_type               diet    drinks  \\\n0  22  a little extra  strictly anything  socially   \n1  35         average       mostly other     often   \n2  38            thin           anything  socially   \n3  23            thin         vegetarian  socially   \n4  29        athletic                NaN  socially   \n\n                           education  \\\n0      working on college/university   \n1              working on space camp   \n2     graduated from masters program   \n3      working on college/university   \n4  graduated from college/university   \n\n                                              essay3  \\\n0  the way i look. i am a six foot half asian, ha...   \n1                                                NaN   \n2  my large jaw and large glasses are the physica...   \n3                  socially awkward but i do my best   \n4            i smile a lot and my inquisitive nature   \n\n                                              essay5  \\\n0  food.<br />\\nwater.<br />\\ncell phone.<br />\\n...   \n1  delicious porkness in all of its glories.<br /...   \n2  movement<br />\\nconversation<br />\\ncreation<b...   \n3                                                NaN   \n4                                                NaN   \n\n                                              essay7  \\\n0  trying to find someone to hang out with. i am ...   \n1                                                NaN   \n2  viewing. listening. dancing. talking. drinking...   \n3                                                NaN   \n4                                                NaN   \n\n                                              essay8  \\\n0  i am new to california and looking for someone...   \n1  i am very open and will share just about anyth...   \n2  when i was five years old, i was known as \"the...   \n3                                                NaN   \n4                                                NaN   \n\n                                              essay9 height  \\\n0  you want to be swept off your feet!<br />\\nyou...     75   \n1                                                NaN     70   \n2  you are bright, open, intense, silly, ironic, ...     68   \n3                              you feel so inclined.     71   \n4                                                NaN     66   \n\n                           job                         location  \\\n0               transportation  south san francisco, california   \n1         hospitality / travel              oakland, california   \n2                          NaN        san francisco, california   \n3                      student             berkeley, california   \n4  artistic / musical / writer        san francisco, california   \n\n                        pets                                  religion sex  \\\n0  likes dogs and likes cats     agnosticism and very serious about it   m   \n1  likes dogs and likes cats  agnosticism but not too serious about it   m   \n2                   has cats                                       NaN   m   \n3                 likes cats                                       NaN   m   \n4  likes dogs and likes cats                                       NaN   m   \n\n                                 sign  \\\n0                              gemini   \n1                              cancer   \n2  pisces but it doesn&rsquo;t matter   \n3                              pisces   \n4                            aquarius   \n\n                                              speaks  \n0                                            english  \n1  english (fluently), spanish (poorly), french (...  \n2                               english, french, c++  \n3                           english, german (poorly)  \n4                                            english  ",
      "text/html": "<div>\n<style scoped>\n    .dataframe tbody tr th:only-of-type {\n        vertical-align: middle;\n    }\n\n    .dataframe tbody tr th {\n        vertical-align: top;\n    }\n\n    .dataframe thead th {\n        text-align: right;\n    }\n</style>\n<table border=\"1\" class=\"dataframe\">\n  <thead>\n    <tr style=\"text-align: right;\">\n      <th></th>\n      <th>age</th>\n      <th>body_type</th>\n      <th>diet</th>\n      <th>drinks</th>\n      <th>education</th>\n      <th>essay3</th>\n      <th>essay5</th>\n      <th>essay7</th>\n      <th>essay8</th>\n      <th>essay9</th>\n      <th>height</th>\n      <th>job</th>\n      <th>location</th>\n      <th>pets</th>\n      <th>religion</th>\n      <th>sex</th>\n      <th>sign</th>\n      <th>speaks</th>\n    </tr>\n  </thead>\n  <tbody>\n    <tr>\n      <th>0</th>\n      <td>22</td>\n      <td>a little extra</td>\n      <td>strictly anything</td>\n      <td>socially</td>\n      <td>working on college/university</td>\n      <td>the way i look. i am a six foot half asian, ha...</td>\n      <td>food.&lt;br /&gt;\\nwater.&lt;br /&gt;\\ncell phone.&lt;br /&gt;\\n...</td>\n      <td>trying to find someone to hang out with. i am ...</td>\n      <td>i am new to california and looking for someone...</td>\n      <td>you want to be swept off your feet!&lt;br /&gt;\\nyou...</td>\n      <td>75</td>\n      <td>transportation</td>\n      <td>south san francisco, california</td>\n      <td>likes dogs and likes cats</td>\n      <td>agnosticism and very serious about it</td>\n      <td>m</td>\n      <td>gemini</td>\n      <td>english</td>\n    </tr>\n    <tr>\n      <th>1</th>\n      <td>35</td>\n      <td>average</td>\n      <td>mostly other</td>\n      <td>often</td>\n      <td>working on space camp</td>\n      <td>NaN</td>\n      <td>delicious porkness in all of its glories.&lt;br /...</td>\n      <td>NaN</td>\n      <td>i am very open and will share just about anyth...</td>\n      <td>NaN</td>\n      <td>70</td>\n      <td>hospitality / travel</td>\n      <td>oakland, california</td>\n      <td>likes dogs and likes cats</td>\n      <td>agnosticism but not too serious about it</td>\n      <td>m</td>\n      <td>cancer</td>\n      <td>english (fluently), spanish (poorly), french (...</td>\n    </tr>\n    <tr>\n      <th>2</th>\n      <td>38</td>\n      <td>thin</td>\n      <td>anything</td>\n      <td>socially</td>\n      <td>graduated from masters program</td>\n      <td>my large jaw and large glasses are the physica...</td>\n      <td>movement&lt;br /&gt;\\nconversation&lt;br /&gt;\\ncreation&lt;b...</td>\n      <td>viewing. listening. dancing. talking. drinking...</td>\n      <td>when i was five years old, i was known as \"the...</td>\n      <td>you are bright, open, intense, silly, ironic, ...</td>\n      <td>68</td>\n      <td>NaN</td>\n      <td>san francisco, california</td>\n      <td>has cats</td>\n      <td>NaN</td>\n      <td>m</td>\n      <td>pisces but it doesn&amp;rsquo;t matter</td>\n      <td>english, french, c++</td>\n    </tr>\n    <tr>\n      <th>3</th>\n      <td>23</td>\n      <td>thin</td>\n      <td>vegetarian</td>\n      <td>socially</td>\n      <td>working on college/university</td>\n      <td>socially awkward but i do my best</td>\n      <td>NaN</td>\n      <td>NaN</td>\n      <td>NaN</td>\n      <td>you feel so inclined.</td>\n      <td>71</td>\n      <td>student</td>\n      <td>berkeley, california</td>\n      <td>likes cats</td>\n      <td>NaN</td>\n      <td>m</td>\n      <td>pisces</td>\n      <td>english, german (poorly)</td>\n    </tr>\n    <tr>\n      <th>4</th>\n      <td>29</td>\n      <td>athletic</td>\n      <td>NaN</td>\n      <td>socially</td>\n      <td>graduated from college/university</td>\n      <td>i smile a lot and my inquisitive nature</td>\n      <td>NaN</td>\n      <td>NaN</td>\n      <td>NaN</td>\n      <td>NaN</td>\n      <td>66</td>\n      <td>artistic / musical / writer</td>\n      <td>san francisco, california</td>\n      <td>likes dogs and likes cats</td>\n      <td>NaN</td>\n      <td>m</td>\n      <td>aquarius</td>\n      <td>english</td>\n    </tr>\n  </tbody>\n</table>\n</div>"
     },
     "metadata": {},
     "execution_count": 15
    }
   ],
   "source": [
    "# Make a reference to the books.csv file path\n",
    "csv_path = \"data/profiles2.csv\"\n",
    "\n",
    "# Import the profiles2.csv file as a DataFrame\n",
    "profiles_df = pd.read_csv(csv_path, encoding=\"utf-8\")\n",
    "profiles_df.head()"
   ]
  },
  {
   "cell_type": "code",
   "execution_count": 16,
   "metadata": {},
   "outputs": [
    {
     "output_type": "execute_result",
     "data": {
      "text/plain": "likes dogs and likes cats          14813\nlikes dogs                          7224\nlikes dogs and has cats             4313\nhas dogs                            4133\nhas dogs and likes cats             2333\nlikes dogs and dislikes cats        2029\nhas dogs and has cats               1474\nhas cats                            1406\nlikes cats                          1063\nhas dogs and dislikes cats           552\ndislikes dogs and likes cats         240\ndislikes dogs and dislikes cats      196\ndislikes cats                        122\ndislikes dogs and has cats            81\ndislikes dogs                         44\nsingle                                 1\nName: pets, dtype: int64"
     },
     "metadata": {},
     "execution_count": 16
    }
   ],
   "source": [
    "profiles_df[\"pets\"].value_counts()"
   ]
  },
  {
   "cell_type": "code",
   "execution_count": 17,
   "metadata": {},
   "outputs": [],
   "source": [
    "profiles_df['pets']=profiles_df['pets'].replace(\n",
    "    {'likes dogs and has cats': 'likes both', 'has dogs': 'likes dogs','has dogs and likes cats':'likes both','likes dogs and dislikes cats':'likes dogs','likes dogs and dislikes cats':'likes dogs','has dogs and has cats':'likes both','has cats':'likes cats','has dogs and dislikes cats':'likes dogs','dislikes dogs and likes cats':'likes cats','dislikes dogs and has cats':'likes cats','likes dogs and likes cats':'likes both'})"
   ]
  },
  {
   "cell_type": "code",
   "execution_count": 18,
   "metadata": {},
   "outputs": [],
   "source": [
    "profiles_df['pets']=profiles_df['pets'].replace(\n",
    "    {'dislikes dogs and dislikes cats': 'other','dislikes cats':'other','dislikes dogs':'other','single':'other'})"
   ]
  },
  {
   "cell_type": "code",
   "execution_count": 19,
   "metadata": {},
   "outputs": [
    {
     "output_type": "execute_result",
     "data": {
      "text/plain": "likes both    22933\nlikes dogs    13938\nlikes cats     2790\nother           363\nName: pets, dtype: int64"
     },
     "metadata": {},
     "execution_count": 19
    }
   ],
   "source": [
    "profiles_df['pets'].value_counts()\n"
   ]
  },
  {
   "cell_type": "code",
   "execution_count": 20,
   "metadata": {},
   "outputs": [],
   "source": [
    "# Drop all rows with missing information\n",
    "profiles_df['pets'] = profiles_df['pets'].dropna(how='any')"
   ]
  },
  {
   "cell_type": "code",
   "execution_count": 21,
   "metadata": {},
   "outputs": [
    {
     "output_type": "execute_result",
     "data": {
      "text/plain": "likes both    22933\nlikes dogs    13938\nlikes cats     2790\nother           363\nName: pets, dtype: int64"
     },
     "metadata": {},
     "execution_count": 21
    }
   ],
   "source": [
    "profiles_df['pets'].value_counts()"
   ]
  },
  {
   "cell_type": "code",
   "execution_count": 10,
   "metadata": {},
   "outputs": [
    {
     "output_type": "execute_result",
     "data": {
      "text/plain": "  age       body_type               diet    drinks  \\\n0  22  a little extra  strictly anything  socially   \n1  35         average       mostly other     often   \n2  38            thin           anything  socially   \n3  23            thin         vegetarian  socially   \n4  29        athletic                NaN  socially   \n\n                           education  \\\n0      working on college/university   \n1              working on space camp   \n2     graduated from masters program   \n3      working on college/university   \n4  graduated from college/university   \n\n                                              essay3  \\\n0  the way i look. i am a six foot half asian, ha...   \n1                                                NaN   \n2  my large jaw and large glasses are the physica...   \n3                  socially awkward but i do my best   \n4            i smile a lot and my inquisitive nature   \n\n                                              essay5  \\\n0  food.<br />\\nwater.<br />\\ncell phone.<br />\\n...   \n1  delicious porkness in all of its glories.<br /...   \n2  movement<br />\\nconversation<br />\\ncreation<b...   \n3                                                NaN   \n4                                                NaN   \n\n                                              essay7  \\\n0  trying to find someone to hang out with. i am ...   \n1                                                NaN   \n2  viewing. listening. dancing. talking. drinking...   \n3                                                NaN   \n4                                                NaN   \n\n                                              essay8  \\\n0  i am new to california and looking for someone...   \n1  i am very open and will share just about anyth...   \n2  when i was five years old, i was known as \"the...   \n3                                                NaN   \n4                                                NaN   \n\n                                              essay9 height  \\\n0  you want to be swept off your feet!<br />\\nyou...     75   \n1                                                NaN     70   \n2  you are bright, open, intense, silly, ironic, ...     68   \n3                              you feel so inclined.     71   \n4                                                NaN     66   \n\n                           job                         location        pets  \\\n0               transportation  south san francisco, california  likes both   \n1         hospitality / travel              oakland, california  likes both   \n2                          NaN        san francisco, california  likes cats   \n3                      student             berkeley, california  likes cats   \n4  artistic / musical / writer        san francisco, california  likes both   \n\n                                   religion sex  \\\n0     agnosticism and very serious about it   m   \n1  agnosticism but not too serious about it   m   \n2                                       NaN   m   \n3                                       NaN   m   \n4                                       NaN   m   \n\n                                 sign  \\\n0                              gemini   \n1                              cancer   \n2  pisces but it doesn&rsquo;t matter   \n3                              pisces   \n4                            aquarius   \n\n                                              speaks  \n0                                            english  \n1  english (fluently), spanish (poorly), french (...  \n2                               english, french, c++  \n3                           english, german (poorly)  \n4                                            english  ",
      "text/html": "<div>\n<style scoped>\n    .dataframe tbody tr th:only-of-type {\n        vertical-align: middle;\n    }\n\n    .dataframe tbody tr th {\n        vertical-align: top;\n    }\n\n    .dataframe thead th {\n        text-align: right;\n    }\n</style>\n<table border=\"1\" class=\"dataframe\">\n  <thead>\n    <tr style=\"text-align: right;\">\n      <th></th>\n      <th>age</th>\n      <th>body_type</th>\n      <th>diet</th>\n      <th>drinks</th>\n      <th>education</th>\n      <th>essay3</th>\n      <th>essay5</th>\n      <th>essay7</th>\n      <th>essay8</th>\n      <th>essay9</th>\n      <th>height</th>\n      <th>job</th>\n      <th>location</th>\n      <th>pets</th>\n      <th>religion</th>\n      <th>sex</th>\n      <th>sign</th>\n      <th>speaks</th>\n    </tr>\n  </thead>\n  <tbody>\n    <tr>\n      <th>0</th>\n      <td>22</td>\n      <td>a little extra</td>\n      <td>strictly anything</td>\n      <td>socially</td>\n      <td>working on college/university</td>\n      <td>the way i look. i am a six foot half asian, ha...</td>\n      <td>food.&lt;br /&gt;\\nwater.&lt;br /&gt;\\ncell phone.&lt;br /&gt;\\n...</td>\n      <td>trying to find someone to hang out with. i am ...</td>\n      <td>i am new to california and looking for someone...</td>\n      <td>you want to be swept off your feet!&lt;br /&gt;\\nyou...</td>\n      <td>75</td>\n      <td>transportation</td>\n      <td>south san francisco, california</td>\n      <td>likes both</td>\n      <td>agnosticism and very serious about it</td>\n      <td>m</td>\n      <td>gemini</td>\n      <td>english</td>\n    </tr>\n    <tr>\n      <th>1</th>\n      <td>35</td>\n      <td>average</td>\n      <td>mostly other</td>\n      <td>often</td>\n      <td>working on space camp</td>\n      <td>NaN</td>\n      <td>delicious porkness in all of its glories.&lt;br /...</td>\n      <td>NaN</td>\n      <td>i am very open and will share just about anyth...</td>\n      <td>NaN</td>\n      <td>70</td>\n      <td>hospitality / travel</td>\n      <td>oakland, california</td>\n      <td>likes both</td>\n      <td>agnosticism but not too serious about it</td>\n      <td>m</td>\n      <td>cancer</td>\n      <td>english (fluently), spanish (poorly), french (...</td>\n    </tr>\n    <tr>\n      <th>2</th>\n      <td>38</td>\n      <td>thin</td>\n      <td>anything</td>\n      <td>socially</td>\n      <td>graduated from masters program</td>\n      <td>my large jaw and large glasses are the physica...</td>\n      <td>movement&lt;br /&gt;\\nconversation&lt;br /&gt;\\ncreation&lt;b...</td>\n      <td>viewing. listening. dancing. talking. drinking...</td>\n      <td>when i was five years old, i was known as \"the...</td>\n      <td>you are bright, open, intense, silly, ironic, ...</td>\n      <td>68</td>\n      <td>NaN</td>\n      <td>san francisco, california</td>\n      <td>likes cats</td>\n      <td>NaN</td>\n      <td>m</td>\n      <td>pisces but it doesn&amp;rsquo;t matter</td>\n      <td>english, french, c++</td>\n    </tr>\n    <tr>\n      <th>3</th>\n      <td>23</td>\n      <td>thin</td>\n      <td>vegetarian</td>\n      <td>socially</td>\n      <td>working on college/university</td>\n      <td>socially awkward but i do my best</td>\n      <td>NaN</td>\n      <td>NaN</td>\n      <td>NaN</td>\n      <td>you feel so inclined.</td>\n      <td>71</td>\n      <td>student</td>\n      <td>berkeley, california</td>\n      <td>likes cats</td>\n      <td>NaN</td>\n      <td>m</td>\n      <td>pisces</td>\n      <td>english, german (poorly)</td>\n    </tr>\n    <tr>\n      <th>4</th>\n      <td>29</td>\n      <td>athletic</td>\n      <td>NaN</td>\n      <td>socially</td>\n      <td>graduated from college/university</td>\n      <td>i smile a lot and my inquisitive nature</td>\n      <td>NaN</td>\n      <td>NaN</td>\n      <td>NaN</td>\n      <td>NaN</td>\n      <td>66</td>\n      <td>artistic / musical / writer</td>\n      <td>san francisco, california</td>\n      <td>likes both</td>\n      <td>NaN</td>\n      <td>m</td>\n      <td>aquarius</td>\n      <td>english</td>\n    </tr>\n  </tbody>\n</table>\n</div>"
     },
     "metadata": {},
     "execution_count": 10
    }
   ],
   "source": [
    "profiles_df.head()"
   ]
  },
  {
   "cell_type": "code",
   "execution_count": 22,
   "metadata": {},
   "outputs": [
    {
     "output_type": "execute_result",
     "data": {
      "text/plain": "                           job        pets\n0               transportation  likes both\n1         hospitality / travel  likes both\n2                          NaN  likes cats\n3                      student  likes cats\n4  artistic / musical / writer  likes both",
      "text/html": "<div>\n<style scoped>\n    .dataframe tbody tr th:only-of-type {\n        vertical-align: middle;\n    }\n\n    .dataframe tbody tr th {\n        vertical-align: top;\n    }\n\n    .dataframe thead th {\n        text-align: right;\n    }\n</style>\n<table border=\"1\" class=\"dataframe\">\n  <thead>\n    <tr style=\"text-align: right;\">\n      <th></th>\n      <th>job</th>\n      <th>pets</th>\n    </tr>\n  </thead>\n  <tbody>\n    <tr>\n      <th>0</th>\n      <td>transportation</td>\n      <td>likes both</td>\n    </tr>\n    <tr>\n      <th>1</th>\n      <td>hospitality / travel</td>\n      <td>likes both</td>\n    </tr>\n    <tr>\n      <th>2</th>\n      <td>NaN</td>\n      <td>likes cats</td>\n    </tr>\n    <tr>\n      <th>3</th>\n      <td>student</td>\n      <td>likes cats</td>\n    </tr>\n    <tr>\n      <th>4</th>\n      <td>artistic / musical / writer</td>\n      <td>likes both</td>\n    </tr>\n  </tbody>\n</table>\n</div>"
     },
     "metadata": {},
     "execution_count": 22
    }
   ],
   "source": [
    "job_df=profiles_df[[\"job\",\"pets\"]]\n",
    "job_df.head()"
   ]
  },
  {
   "cell_type": "code",
   "execution_count": 23,
   "metadata": {},
   "outputs": [
    {
     "output_type": "execute_result",
     "data": {
      "text/plain": "                              job        pets\n0                  transportation  likes both\n1            hospitality / travel  likes both\n3                         student  likes cats\n4     artistic / musical / writer  likes both\n5  computer / hardware / software  likes cats",
      "text/html": "<div>\n<style scoped>\n    .dataframe tbody tr th:only-of-type {\n        vertical-align: middle;\n    }\n\n    .dataframe tbody tr th {\n        vertical-align: top;\n    }\n\n    .dataframe thead th {\n        text-align: right;\n    }\n</style>\n<table border=\"1\" class=\"dataframe\">\n  <thead>\n    <tr style=\"text-align: right;\">\n      <th></th>\n      <th>job</th>\n      <th>pets</th>\n    </tr>\n  </thead>\n  <tbody>\n    <tr>\n      <th>0</th>\n      <td>transportation</td>\n      <td>likes both</td>\n    </tr>\n    <tr>\n      <th>1</th>\n      <td>hospitality / travel</td>\n      <td>likes both</td>\n    </tr>\n    <tr>\n      <th>3</th>\n      <td>student</td>\n      <td>likes cats</td>\n    </tr>\n    <tr>\n      <th>4</th>\n      <td>artistic / musical / writer</td>\n      <td>likes both</td>\n    </tr>\n    <tr>\n      <th>5</th>\n      <td>computer / hardware / software</td>\n      <td>likes cats</td>\n    </tr>\n  </tbody>\n</table>\n</div>"
     },
     "metadata": {},
     "execution_count": 23
    }
   ],
   "source": [
    "clean_job_df = job_df.dropna(how='any')\n",
    "clean_job_df.head()"
   ]
  },
  {
   "cell_type": "code",
   "execution_count": 26,
   "metadata": {},
   "outputs": [
    {
     "output_type": "execute_result",
     "data": {
      "text/plain": "                  job        pets\n0      transportation  likes both\n1        hospitality   likes both\n3             student  likes cats\n4           artistic   likes both\n5           computer   likes cats\n...               ...         ...\n60548      executive   likes both\n60550          sales   likes dogs\n60551  entertainment   likes both\n60553       medicine   likes both\n60554       medicine   likes both\n\n[36565 rows x 2 columns]",
      "text/html": "<div>\n<style scoped>\n    .dataframe tbody tr th:only-of-type {\n        vertical-align: middle;\n    }\n\n    .dataframe tbody tr th {\n        vertical-align: top;\n    }\n\n    .dataframe thead th {\n        text-align: right;\n    }\n</style>\n<table border=\"1\" class=\"dataframe\">\n  <thead>\n    <tr style=\"text-align: right;\">\n      <th></th>\n      <th>job</th>\n      <th>pets</th>\n    </tr>\n  </thead>\n  <tbody>\n    <tr>\n      <th>0</th>\n      <td>transportation</td>\n      <td>likes both</td>\n    </tr>\n    <tr>\n      <th>1</th>\n      <td>hospitality</td>\n      <td>likes both</td>\n    </tr>\n    <tr>\n      <th>3</th>\n      <td>student</td>\n      <td>likes cats</td>\n    </tr>\n    <tr>\n      <th>4</th>\n      <td>artistic</td>\n      <td>likes both</td>\n    </tr>\n    <tr>\n      <th>5</th>\n      <td>computer</td>\n      <td>likes cats</td>\n    </tr>\n    <tr>\n      <th>...</th>\n      <td>...</td>\n      <td>...</td>\n    </tr>\n    <tr>\n      <th>60548</th>\n      <td>executive</td>\n      <td>likes both</td>\n    </tr>\n    <tr>\n      <th>60550</th>\n      <td>sales</td>\n      <td>likes dogs</td>\n    </tr>\n    <tr>\n      <th>60551</th>\n      <td>entertainment</td>\n      <td>likes both</td>\n    </tr>\n    <tr>\n      <th>60553</th>\n      <td>medicine</td>\n      <td>likes both</td>\n    </tr>\n    <tr>\n      <th>60554</th>\n      <td>medicine</td>\n      <td>likes both</td>\n    </tr>\n  </tbody>\n</table>\n<p>36565 rows × 2 columns</p>\n</div>"
     },
     "metadata": {},
     "execution_count": 26
    }
   ],
   "source": [
    "clean_job_df['job'] = clean_job_df['job'].str.split('/').str[0]\n",
    "clean_job_df"
   ]
  },
  {
   "cell_type": "code",
   "execution_count": 28,
   "metadata": {},
   "outputs": [
    {
     "output_type": "execute_result",
     "data": {
      "text/plain": "other                          5512\nstudent                        3523\ncomputer                       3339\nscience                        3226\nartistic                       3196\nsales                          3030\nmedicine                       2629\neducation                      2477\nexecutive                      1613\nentertainment                  1599\nbanking                        1452\nlaw                             998\nhospitality                     990\nconstruction                    742\nclerical                        613\npolitical                       491\nrather not say                  311\ntransportation                  269\nunemployed                      225\nretired                         179\nmilitary                        150\nother and laughing about it       1\nName: job, dtype: int64"
     },
     "metadata": {},
     "execution_count": 28
    }
   ],
   "source": [
    "clean_job_df['job'].value_counts()"
   ]
  },
  {
   "cell_type": "code",
   "execution_count": 37,
   "metadata": {},
   "outputs": [
    {
     "output_type": "execute_result",
     "data": {
      "text/plain": "job             pets      \nartistic        likes both    2077\n                likes dogs     829\n                likes cats     274\n                other           16\nbanking         likes dogs     719\n                              ... \ntransportation  other            3\nunemployed      likes both     153\n                likes dogs      42\n                likes cats      22\n                other            8\nName: pets, Length: 85, dtype: int64"
     },
     "metadata": {},
     "execution_count": 37
    }
   ],
   "source": [
    "clean_job=clean_job_df.groupby('job')['pets'].value_counts()\n",
    "clean_job"
   ]
  },
  {
   "cell_type": "code",
   "execution_count": 41,
   "metadata": {},
   "outputs": [],
   "source": [
    "clean_job.to_csv('output/job.csv', index = False)"
   ]
  },
  {
   "cell_type": "code",
   "execution_count": null,
   "metadata": {},
   "outputs": [],
   "source": []
  }
 ],
 "metadata": {
  "language_info": {
   "codemirror_mode": {
    "name": "ipython",
    "version": 3
   },
   "file_extension": ".py",
   "mimetype": "text/x-python",
   "name": "python",
   "nbconvert_exporter": "python",
   "pygments_lexer": "ipython3",
   "version": "3.7.6-final"
  },
  "orig_nbformat": 2,
  "kernelspec": {
   "name": "python3",
   "display_name": "Python 3"
  }
 },
 "nbformat": 4,
 "nbformat_minor": 2
}