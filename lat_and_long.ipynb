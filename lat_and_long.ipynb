{
 "cells": [
  {
   "cell_type": "code",
   "execution_count": 1,
   "metadata": {},
   "outputs": [],
   "source": [
    "# Dependencies and Setup\n",
    "import pandas as pd\n",
    "import requests\n",
    "\n",
    "# Import API key\n",
    "from config import g_key\n"
   ]
  },
  {
   "cell_type": "code",
   "execution_count": 2,
   "metadata": {},
   "outputs": [
    {
     "output_type": "execute_result",
     "data": {
      "text/plain": "         pets   location  count\n0  likes both    alameda    380\n1  likes both     albany    117\n2  likes both  amsterdam      1\n3  likes both    arcadia      1\n4  likes both   atherton     17",
      "text/html": "<div>\n<style scoped>\n    .dataframe tbody tr th:only-of-type {\n        vertical-align: middle;\n    }\n\n    .dataframe tbody tr th {\n        vertical-align: top;\n    }\n\n    .dataframe thead th {\n        text-align: right;\n    }\n</style>\n<table border=\"1\" class=\"dataframe\">\n  <thead>\n    <tr style=\"text-align: right;\">\n      <th></th>\n      <th>pets</th>\n      <th>location</th>\n      <th>count</th>\n    </tr>\n  </thead>\n  <tbody>\n    <tr>\n      <th>0</th>\n      <td>likes both</td>\n      <td>alameda</td>\n      <td>380</td>\n    </tr>\n    <tr>\n      <th>1</th>\n      <td>likes both</td>\n      <td>albany</td>\n      <td>117</td>\n    </tr>\n    <tr>\n      <th>2</th>\n      <td>likes both</td>\n      <td>amsterdam</td>\n      <td>1</td>\n    </tr>\n    <tr>\n      <th>3</th>\n      <td>likes both</td>\n      <td>arcadia</td>\n      <td>1</td>\n    </tr>\n    <tr>\n      <th>4</th>\n      <td>likes both</td>\n      <td>atherton</td>\n      <td>17</td>\n    </tr>\n  </tbody>\n</table>\n</div>"
     },
     "metadata": {},
     "execution_count": 2
    }
   ],
   "source": [
    "#import location csv\n",
    "data_path = \"output/location.csv\"\n",
    "locations = pd.read_csv(data_path, low_memory = False)\n",
    "locations.head()"
   ]
  },
  {
   "cell_type": "code",
   "execution_count": 3,
   "metadata": {},
   "outputs": [
    {
     "output_type": "execute_result",
     "data": {
      "text/plain": "           pets             location  count Lat Lng\n0    likes both              alameda    380        \n1    likes both               albany    117        \n2    likes both            amsterdam      1        \n3    likes both              arcadia      1        \n4    likes both             atherton     17        \n..          ...                  ...    ...  ..  ..\n347       other            sausalito      1        \n348       other  south san francisco      3        \n349       other             stanford      6        \n350       other              vallejo      4        \n351       other         walnut creek      3        \n\n[352 rows x 5 columns]",
      "text/html": "<div>\n<style scoped>\n    .dataframe tbody tr th:only-of-type {\n        vertical-align: middle;\n    }\n\n    .dataframe tbody tr th {\n        vertical-align: top;\n    }\n\n    .dataframe thead th {\n        text-align: right;\n    }\n</style>\n<table border=\"1\" class=\"dataframe\">\n  <thead>\n    <tr style=\"text-align: right;\">\n      <th></th>\n      <th>pets</th>\n      <th>location</th>\n      <th>count</th>\n      <th>Lat</th>\n      <th>Lng</th>\n    </tr>\n  </thead>\n  <tbody>\n    <tr>\n      <th>0</th>\n      <td>likes both</td>\n      <td>alameda</td>\n      <td>380</td>\n      <td></td>\n      <td></td>\n    </tr>\n    <tr>\n      <th>1</th>\n      <td>likes both</td>\n      <td>albany</td>\n      <td>117</td>\n      <td></td>\n      <td></td>\n    </tr>\n    <tr>\n      <th>2</th>\n      <td>likes both</td>\n      <td>amsterdam</td>\n      <td>1</td>\n      <td></td>\n      <td></td>\n    </tr>\n    <tr>\n      <th>3</th>\n      <td>likes both</td>\n      <td>arcadia</td>\n      <td>1</td>\n      <td></td>\n      <td></td>\n    </tr>\n    <tr>\n      <th>4</th>\n      <td>likes both</td>\n      <td>atherton</td>\n      <td>17</td>\n      <td></td>\n      <td></td>\n    </tr>\n    <tr>\n      <th>...</th>\n      <td>...</td>\n      <td>...</td>\n      <td>...</td>\n      <td>...</td>\n      <td>...</td>\n    </tr>\n    <tr>\n      <th>347</th>\n      <td>other</td>\n      <td>sausalito</td>\n      <td>1</td>\n      <td></td>\n      <td></td>\n    </tr>\n    <tr>\n      <th>348</th>\n      <td>other</td>\n      <td>south san francisco</td>\n      <td>3</td>\n      <td></td>\n      <td></td>\n    </tr>\n    <tr>\n      <th>349</th>\n      <td>other</td>\n      <td>stanford</td>\n      <td>6</td>\n      <td></td>\n      <td></td>\n    </tr>\n    <tr>\n      <th>350</th>\n      <td>other</td>\n      <td>vallejo</td>\n      <td>4</td>\n      <td></td>\n      <td></td>\n    </tr>\n    <tr>\n      <th>351</th>\n      <td>other</td>\n      <td>walnut creek</td>\n      <td>3</td>\n      <td></td>\n      <td></td>\n    </tr>\n  </tbody>\n</table>\n<p>352 rows × 5 columns</p>\n</div>"
     },
     "metadata": {},
     "execution_count": 3
    }
   ],
   "source": [
    "#create columns for lat and long\n",
    "locations[\"Lat\"] = \"\"\n",
    "locations[\"Lng\"] = \"\"\n",
    "locations"
   ]
  },
  {
   "cell_type": "code",
   "execution_count": 4,
   "metadata": {},
   "outputs": [
    {
     "output_type": "stream",
     "name": "stdout",
     "text": "Searching for alameda\n-----------------------------\nSearching for albany\n-----------------------------\nSearching for amsterdam\n-----------------------------\nSearching for arcadia\n-----------------------------\nSearching for atherton\n-----------------------------\nSearching for atlanta\n-----------------------------\nSearching for bayshore\n-----------------------------\nSearching for bellingham\n-----------------------------\nSearching for belmont\n-----------------------------\nSearching for belvedere tiburon\n-----------------------------\nSearching for benicia\n-----------------------------\nSearching for berkeley\n-----------------------------\nSearching for billings\n-----------------------------\nSearching for boise\n-----------------------------\nSearching for bolinas\n-----------------------------\nSearching for boston\n-----------------------------\nSearching for brea\n-----------------------------\nSearching for brisbane\n-----------------------------\nSearching for brooklyn\n-----------------------------\nSearching for burlingame\n-----------------------------\nSearching for cambridge\n-----------------------------\nSearching for campbell\n-----------------------------\nSearching for castro valley\n-----------------------------\nSearching for chicago\n-----------------------------\nSearching for cincinnati\n-----------------------------\nSearching for colma\n-----------------------------\nSearching for columbus\n-----------------------------\nSearching for concord\n-----------------------------\nSearching for corte madera\n-----------------------------\nSearching for costa mesa\n-----------------------------\nSearching for crockett\n-----------------------------\nSearching for crowley\n-----------------------------\nSearching for daly city\n-----------------------------\nSearching for east palo alto\n-----------------------------\nSearching for edinburgh\n-----------------------------\nSearching for el cerrito\n-----------------------------\nSearching for el granada\n-----------------------------\nSearching for el sobrante\n-----------------------------\nSearching for emeryville\n-----------------------------\nSearching for fairfax\n-----------------------------\nSearching for fayetteville\nNot Found :(\n-----------------------------\nSearching for forest knolls\n-----------------------------\nSearching for foster city\n-----------------------------\nSearching for fremont\n-----------------------------\nSearching for grand rapids\n-----------------------------\nSearching for granite bay\n-----------------------------\nSearching for green brae\n-----------------------------\nSearching for half moon bay\n-----------------------------\nSearching for hayward\n-----------------------------\nSearching for hercules\n-----------------------------\nSearching for hillsborough\n-----------------------------\nSearching for kassel\n-----------------------------\nSearching for kensington\n-----------------------------\nSearching for kentfield\n-----------------------------\nSearching for lafayette\n-----------------------------\nSearching for lagunitas\n-----------------------------\nSearching for lake orion\nNot Found :(\n-----------------------------\nSearching for larkspur\n-----------------------------\nSearching for leander\nNot Found :(\n-----------------------------\nSearching for london\n-----------------------------\nSearching for long beach\n-----------------------------\nSearching for longwood\n-----------------------------\nSearching for los angeles\n-----------------------------\nSearching for los gatos\n-----------------------------\nSearching for madrid\n-----------------------------\nSearching for marin city\n-----------------------------\nSearching for martinez\n-----------------------------\nSearching for menlo park\n-----------------------------\nSearching for mill valley\n-----------------------------\nSearching for millbrae\n-----------------------------\nSearching for milpitas\n-----------------------------\nSearching for montara\n-----------------------------\nSearching for moraga\n-----------------------------\nSearching for moss beach\n-----------------------------\nSearching for mountain view\n-----------------------------\nSearching for muir beach\n-----------------------------\nSearching for napa\n-----------------------------\nSearching for new orleans\n-----------------------------\nSearching for new york\n-----------------------------\nSearching for north hollywood\n-----------------------------\nSearching for novato\n-----------------------------\nSearching for oakland\n-----------------------------\nSearching for orinda\n-----------------------------\nSearching for ozone park\n-----------------------------\nSearching for pacifica\n-----------------------------\nSearching for palo alto\n-----------------------------\nSearching for petaluma\n-----------------------------\nSearching for phoenix\n-----------------------------\nSearching for piedmont\n-----------------------------\nSearching for pinole\n-----------------------------\nSearching for pleasant hill\n-----------------------------\nSearching for point richmond\n-----------------------------\nSearching for port costa\n-----------------------------\nSearching for portland\n-----------------------------\nSearching for providence\n-----------------------------\nSearching for redwood city\n-----------------------------\nSearching for richmond\n-----------------------------\nSearching for riverside\n-----------------------------\nSearching for rochester\n-----------------------------\nSearching for rodeo\n-----------------------------\nSearching for rohnert park\n-----------------------------\nSearching for ross\n-----------------------------\nSearching for salt lake city\n-----------------------------\nSearching for san anselmo\n-----------------------------\nSearching for san antonio\n-----------------------------\nSearching for san bruno\n-----------------------------\nSearching for san carlos\n-----------------------------\nSearching for san diego\n-----------------------------\nSearching for san francisco\n-----------------------------\nSearching for san geronimo\n-----------------------------\nSearching for san leandro\n-----------------------------\nSearching for san lorenzo\n-----------------------------\nSearching for san mateo\n-----------------------------\nSearching for san pablo\n-----------------------------\nSearching for san rafael\n-----------------------------\nSearching for santa ana\n-----------------------------\nSearching for santa cruz\n-----------------------------\nSearching for santa monica\n-----------------------------\nSearching for santa rosa\n-----------------------------\nSearching for sausalito\n-----------------------------\nSearching for seaside\n-----------------------------\nSearching for south lake tahoe\n-----------------------------\nSearching for south san francisco\n-----------------------------\nSearching for south wellfleet\nNot Found :(\n-----------------------------\nSearching for stanford\n-----------------------------\nSearching for stinson beach\n-----------------------------\nSearching for taunton\nNot Found :(\n-----------------------------\nSearching for tucson\n-----------------------------\nSearching for union city\n-----------------------------\nSearching for vallejo\n-----------------------------\nSearching for walnut creek\n-----------------------------\nSearching for waterford\n-----------------------------\nSearching for west oakland\n-----------------------------\nSearching for westlake\n-----------------------------\nSearching for woodacre\n-----------------------------\nSearching for woodside\n-----------------------------\nSearching for alameda\n-----------------------------\nSearching for albany\n-----------------------------\nSearching for atherton\n-----------------------------\nSearching for belmont\n-----------------------------\nSearching for belvedere tiburon\n-----------------------------\nSearching for benicia\n-----------------------------\nSearching for berkeley\n-----------------------------\nSearching for brisbane\n-----------------------------\nSearching for burlingame\n-----------------------------\nSearching for castro valley\n-----------------------------\nSearching for colma\n-----------------------------\nSearching for corte madera\n-----------------------------\nSearching for daly city\n-----------------------------\nSearching for el cerrito\n-----------------------------\nSearching for el granada\n-----------------------------\nSearching for el sobrante\n-----------------------------\nSearching for emeryville\n-----------------------------\nSearching for fairfax\n-----------------------------\nSearching for forest knolls\n-----------------------------\nSearching for foster city\n-----------------------------\nSearching for fremont\n-----------------------------\nSearching for glencove\n-----------------------------\nSearching for green brae\n-----------------------------\nSearching for half moon bay\n-----------------------------\nSearching for hayward\n-----------------------------\nSearching for hercules\n-----------------------------\nSearching for lafayette\n-----------------------------\nSearching for lagunitas\n-----------------------------\nSearching for larkspur\n-----------------------------\nSearching for martinez\n-----------------------------\nSearching for menlo park\n-----------------------------\nSearching for miami\n-----------------------------\nSearching for mill valley\n-----------------------------\nSearching for millbrae\n-----------------------------\nSearching for modesto\n-----------------------------\nSearching for moraga\n-----------------------------\nSearching for mountain view\n-----------------------------\nSearching for new york\n-----------------------------\nSearching for nicasio\n-----------------------------\nSearching for novato\n-----------------------------\nSearching for oakland\n-----------------------------\nSearching for orinda\n-----------------------------\nSearching for pacifica\n-----------------------------\nSearching for palo alto\n-----------------------------\nSearching for pinole\n-----------------------------\nSearching for pleasant hill\n-----------------------------\nSearching for portland\n-----------------------------\nSearching for redwood city\n-----------------------------\nSearching for richmond\n-----------------------------\nSearching for rodeo\n-----------------------------\nSearching for san anselmo\n-----------------------------\nSearching for san bruno\n-----------------------------\nSearching for san carlos\n-----------------------------\nSearching for san francisco\n-----------------------------\nSearching for san leandro\n-----------------------------\nSearching for san lorenzo\n-----------------------------\nSearching for san mateo\n-----------------------------\nSearching for san pablo\n-----------------------------\nSearching for san quentin\n-----------------------------\nSearching for san rafael\n-----------------------------\nSearching for sausalito\n-----------------------------\nSearching for south san francisco\n-----------------------------\nSearching for stanford\n-----------------------------\nSearching for stinson beach\n-----------------------------\nSearching for studio city\n-----------------------------\nSearching for vallejo\n-----------------------------\nSearching for walnut creek\n-----------------------------\nSearching for washington\n-----------------------------\nSearching for woodacre\n-----------------------------\nSearching for alameda\n-----------------------------\nSearching for albany\n-----------------------------\nSearching for ashland\n-----------------------------\nSearching for atherton\n-----------------------------\nSearching for austin\n-----------------------------\nSearching for belmont\n-----------------------------\nSearching for belvedere tiburon\n-----------------------------\nSearching for benicia\n-----------------------------\nSearching for berkeley\n-----------------------------\nSearching for bolinas\n-----------------------------\nSearching for boulder\n-----------------------------\nSearching for brisbane\n-----------------------------\nSearching for brooklyn\n-----------------------------\nSearching for burlingame\n-----------------------------\nSearching for canyon country\n-----------------------------\nSearching for castro valley\n-----------------------------\nSearching for colma\n-----------------------------\nSearching for corte madera\n-----------------------------\nSearching for crockett\n-----------------------------\nSearching for daly city\n-----------------------------\nSearching for east palo alto\n-----------------------------\nSearching for el cerrito\n-----------------------------\nSearching for el granada\n-----------------------------\nSearching for el sobrante\n-----------------------------\nSearching for emeryville\n-----------------------------\nSearching for fairfax\n-----------------------------\nSearching for foster city\n-----------------------------\nSearching for fremont\n-----------------------------\nSearching for green brae\n-----------------------------\nSearching for hacienda heights\n-----------------------------\nSearching for half moon bay\n-----------------------------\nSearching for hayward\n-----------------------------\nSearching for hercules\n-----------------------------\nSearching for hilarita\n-----------------------------\nSearching for hillsborough\n-----------------------------\nSearching for honolulu\n-----------------------------\nSearching for irvine\n-----------------------------\nSearching for kansas city\n-----------------------------\nSearching for kentfield\n-----------------------------\nSearching for lafayette\n-----------------------------\nSearching for lagunitas\n-----------------------------\nSearching for larkspur\n-----------------------------\nSearching for las vegas\n-----------------------------\nSearching for los angeles\n-----------------------------\nSearching for martinez\n-----------------------------\nSearching for menlo park\n-----------------------------\nSearching for mill valley\n-----------------------------\nSearching for millbrae\n-----------------------------\nSearching for minneapolis\n-----------------------------\nSearching for montara\n-----------------------------\nSearching for moraga\n-----------------------------\nSearching for moss beach\n-----------------------------\nSearching for mountain view\n-----------------------------\nSearching for murfreesboro\n-----------------------------\nSearching for napa\n-----------------------------\nSearching for nevada city\n-----------------------------\nSearching for new york\n-----------------------------\nSearching for nha trang\n-----------------------------\nSearching for nicasio\n-----------------------------\nSearching for novato\n-----------------------------\nSearching for oakland\n-----------------------------\nSearching for oceanview\n-----------------------------\nSearching for orange\n-----------------------------\nSearching for orinda\n-----------------------------\nSearching for pacheco\n-----------------------------\nSearching for pacifica\n-----------------------------\nSearching for palo alto\n-----------------------------\nSearching for pasadena\n-----------------------------\nSearching for petaluma\n-----------------------------\nSearching for piedmont\n-----------------------------\nSearching for pinole\n-----------------------------\nSearching for pleasant hill\n-----------------------------\nSearching for point richmond\n-----------------------------\nSearching for redwood city\n-----------------------------\nSearching for richmond\n-----------------------------\nSearching for rodeo\n-----------------------------\nSearching for ross\n-----------------------------\nSearching for salt lake city\n-----------------------------\nSearching for san anselmo\n-----------------------------\nSearching for san bruno\n-----------------------------\nSearching for san carlos\n-----------------------------\nSearching for san francisco\n-----------------------------\nSearching for san jose\n-----------------------------\nSearching for san leandro\n-----------------------------\nSearching for san lorenzo\n-----------------------------\nSearching for san luis obispo\n-----------------------------\nSearching for san mateo\n-----------------------------\nSearching for san pablo\n-----------------------------\nSearching for san rafael\n-----------------------------\nSearching for santa cruz\n-----------------------------\nSearching for santa rosa\n-----------------------------\nSearching for sausalito\n-----------------------------\nSearching for south orange\n-----------------------------\nSearching for south san francisco\n-----------------------------\nSearching for stanford\n-----------------------------\nSearching for stockton\n-----------------------------\nSearching for sunnyvale\n-----------------------------\nSearching for tiburon\n-----------------------------\nSearching for vacaville\n-----------------------------\nSearching for vallejo\n-----------------------------\nSearching for walnut creek\n-----------------------------\nSearching for west oakland\n-----------------------------\nSearching for westlake\n-----------------------------\nSearching for woodacre\n-----------------------------\nSearching for woodside\n-----------------------------\nSearching for alameda\n-----------------------------\nSearching for albany\n-----------------------------\nSearching for belmont\n-----------------------------\nSearching for benicia\n-----------------------------\nSearching for berkeley\n-----------------------------\nSearching for burlingame\n-----------------------------\nSearching for cancer and it&rsquo;s fun to think about\nNot Found :(\n-----------------------------\nSearching for castro valley\n-----------------------------\nSearching for daly city\n-----------------------------\nSearching for el cerrito\n-----------------------------\nSearching for el sobrante\n-----------------------------\nSearching for emeryville\n-----------------------------\nSearching for half moon bay\n-----------------------------\nSearching for hayward\n-----------------------------\nSearching for larkspur\n-----------------------------\nSearching for martinez\n-----------------------------\nSearching for menlo park\n-----------------------------\nSearching for mill valley\n-----------------------------\nSearching for millbrae\n-----------------------------\nSearching for mountain view\n-----------------------------\nSearching for oakland\n-----------------------------\nSearching for orinda\n-----------------------------\nSearching for pacifica\n-----------------------------\nSearching for palo alto\n-----------------------------\nSearching for pleasant hill\n-----------------------------\nSearching for redwood city\n-----------------------------\nSearching for richmond\n-----------------------------\nSearching for rodeo\n-----------------------------\nSearching for san bruno\n-----------------------------\nSearching for san carlos\n-----------------------------\nSearching for san diego\n-----------------------------\nSearching for san francisco\n-----------------------------\nSearching for san leandro\n-----------------------------\nSearching for san lorenzo\n-----------------------------\nSearching for san mateo\n-----------------------------\nSearching for san pablo\n-----------------------------\nSearching for san rafael\n-----------------------------\nSearching for sausalito\n-----------------------------\nSearching for south san francisco\n-----------------------------\nSearching for stanford\n-----------------------------\nSearching for vallejo\n-----------------------------\nSearching for walnut creek\n-----------------------------\n"
    }
   ],
   "source": [
    "#google maps api call to get lattitude and longitude data\n",
    "\n",
    "base_url = \"https://maps.googleapis.com/maps/api/place/textsearch/json\"\n",
    "lat = 34.0522\n",
    "lng = -118.2437\n",
    "params = {\n",
    "    \"radius\": 50000,\n",
    "    \"key\": g_key,\n",
    "    \"location\": f\"{lat},{lng}\"\n",
    "}\n",
    "\n",
    "\n",
    "for index, row in locations.iterrows():\n",
    "    \n",
    "    keyword = row[\"location\"]\n",
    "    \n",
    "    params[\"query\"] = f\"{keyword}, California\"\n",
    "    \n",
    "    location_info = requests.get(base_url, params=params)\n",
    "    \n",
    "    location_info_json = location_info.json()\n",
    "    \n",
    "    print(f\"Searching for {keyword}\")\n",
    "    \n",
    "    try:\n",
    "        locations.loc[index, \"Lat\"] = location_info_json[\"results\"][0]['geometry']['location']['lat']\n",
    "        locations.loc[index, \"Lng\"] = location_info_json[\"results\"][0]['geometry']['location']['lng']\n",
    "    \n",
    "    except (KeyError, IndexError):\n",
    "        print(\"Not Found :(\")  \n",
    "    \n",
    "    print(\"-----------------------------\")"
   ]
  },
  {
   "cell_type": "code",
   "execution_count": 6,
   "metadata": {},
   "outputs": [
    {
     "output_type": "execute_result",
     "data": {
      "text/plain": "           pets             location  count      Lat      Lng\n0    likes both              alameda    380  37.7799 -122.282\n1    likes both               albany    117  37.8867 -122.298\n2    likes both            amsterdam      1  37.4303 -120.541\n3    likes both              arcadia      1  34.1397 -118.035\n4    likes both             atherton     17  37.4613 -122.198\n..          ...                  ...    ...      ...      ...\n347       other            sausalito      1  37.8591 -122.485\n348       other  south san francisco      3  37.6547 -122.408\n349       other             stanford      6  37.4241 -122.166\n350       other              vallejo      4  38.1041 -122.257\n351       other         walnut creek      3  37.9101 -122.065\n\n[352 rows x 5 columns]",
      "text/html": "<div>\n<style scoped>\n    .dataframe tbody tr th:only-of-type {\n        vertical-align: middle;\n    }\n\n    .dataframe tbody tr th {\n        vertical-align: top;\n    }\n\n    .dataframe thead th {\n        text-align: right;\n    }\n</style>\n<table border=\"1\" class=\"dataframe\">\n  <thead>\n    <tr style=\"text-align: right;\">\n      <th></th>\n      <th>pets</th>\n      <th>location</th>\n      <th>count</th>\n      <th>Lat</th>\n      <th>Lng</th>\n    </tr>\n  </thead>\n  <tbody>\n    <tr>\n      <th>0</th>\n      <td>likes both</td>\n      <td>alameda</td>\n      <td>380</td>\n      <td>37.7799</td>\n      <td>-122.282</td>\n    </tr>\n    <tr>\n      <th>1</th>\n      <td>likes both</td>\n      <td>albany</td>\n      <td>117</td>\n      <td>37.8867</td>\n      <td>-122.298</td>\n    </tr>\n    <tr>\n      <th>2</th>\n      <td>likes both</td>\n      <td>amsterdam</td>\n      <td>1</td>\n      <td>37.4303</td>\n      <td>-120.541</td>\n    </tr>\n    <tr>\n      <th>3</th>\n      <td>likes both</td>\n      <td>arcadia</td>\n      <td>1</td>\n      <td>34.1397</td>\n      <td>-118.035</td>\n    </tr>\n    <tr>\n      <th>4</th>\n      <td>likes both</td>\n      <td>atherton</td>\n      <td>17</td>\n      <td>37.4613</td>\n      <td>-122.198</td>\n    </tr>\n    <tr>\n      <th>...</th>\n      <td>...</td>\n      <td>...</td>\n      <td>...</td>\n      <td>...</td>\n      <td>...</td>\n    </tr>\n    <tr>\n      <th>347</th>\n      <td>other</td>\n      <td>sausalito</td>\n      <td>1</td>\n      <td>37.8591</td>\n      <td>-122.485</td>\n    </tr>\n    <tr>\n      <th>348</th>\n      <td>other</td>\n      <td>south san francisco</td>\n      <td>3</td>\n      <td>37.6547</td>\n      <td>-122.408</td>\n    </tr>\n    <tr>\n      <th>349</th>\n      <td>other</td>\n      <td>stanford</td>\n      <td>6</td>\n      <td>37.4241</td>\n      <td>-122.166</td>\n    </tr>\n    <tr>\n      <th>350</th>\n      <td>other</td>\n      <td>vallejo</td>\n      <td>4</td>\n      <td>38.1041</td>\n      <td>-122.257</td>\n    </tr>\n    <tr>\n      <th>351</th>\n      <td>other</td>\n      <td>walnut creek</td>\n      <td>3</td>\n      <td>37.9101</td>\n      <td>-122.065</td>\n    </tr>\n  </tbody>\n</table>\n<p>352 rows × 5 columns</p>\n</div>"
     },
     "metadata": {},
     "execution_count": 6
    }
   ],
   "source": [
    "#dataframe including location data\n",
    "locations"
   ]
  },
  {
   "cell_type": "code",
   "execution_count": 8,
   "metadata": {},
   "outputs": [
    {
     "output_type": "execute_result",
     "data": {
      "text/plain": "         pets   location  count      Lat      Lng\n0  likes both    alameda    380  37.7799 -122.282\n1  likes both     albany    117  37.8867 -122.298\n2  likes both  amsterdam      1  37.4303 -120.541\n3  likes both    arcadia      1  34.1397 -118.035\n4  likes both   atherton     17  37.4613 -122.198",
      "text/html": "<div>\n<style scoped>\n    .dataframe tbody tr th:only-of-type {\n        vertical-align: middle;\n    }\n\n    .dataframe tbody tr th {\n        vertical-align: top;\n    }\n\n    .dataframe thead th {\n        text-align: right;\n    }\n</style>\n<table border=\"1\" class=\"dataframe\">\n  <thead>\n    <tr style=\"text-align: right;\">\n      <th></th>\n      <th>pets</th>\n      <th>location</th>\n      <th>count</th>\n      <th>Lat</th>\n      <th>Lng</th>\n    </tr>\n  </thead>\n  <tbody>\n    <tr>\n      <th>0</th>\n      <td>likes both</td>\n      <td>alameda</td>\n      <td>380</td>\n      <td>37.7799</td>\n      <td>-122.282</td>\n    </tr>\n    <tr>\n      <th>1</th>\n      <td>likes both</td>\n      <td>albany</td>\n      <td>117</td>\n      <td>37.8867</td>\n      <td>-122.298</td>\n    </tr>\n    <tr>\n      <th>2</th>\n      <td>likes both</td>\n      <td>amsterdam</td>\n      <td>1</td>\n      <td>37.4303</td>\n      <td>-120.541</td>\n    </tr>\n    <tr>\n      <th>3</th>\n      <td>likes both</td>\n      <td>arcadia</td>\n      <td>1</td>\n      <td>34.1397</td>\n      <td>-118.035</td>\n    </tr>\n    <tr>\n      <th>4</th>\n      <td>likes both</td>\n      <td>atherton</td>\n      <td>17</td>\n      <td>37.4613</td>\n      <td>-122.198</td>\n    </tr>\n  </tbody>\n</table>\n</div>"
     },
     "metadata": {},
     "execution_count": 8
    }
   ],
   "source": [
    "locations = locations.dropna(how='any')\n",
    "locations.head()"
   ]
  },
  {
   "cell_type": "code",
   "execution_count": 9,
   "metadata": {},
   "outputs": [],
   "source": [
    "#export to csv\n",
    "locations.to_csv('output/locations_with_latlong.csv', index = False)"
   ]
  },
  {
   "cell_type": "code",
   "execution_count": null,
   "metadata": {},
   "outputs": [],
   "source": []
  },
  {
   "cell_type": "code",
   "execution_count": null,
   "metadata": {},
   "outputs": [],
   "source": []
  }
 ],
 "metadata": {
  "language_info": {
   "codemirror_mode": {
    "name": "ipython",
    "version": 3
   },
   "file_extension": ".py",
   "mimetype": "text/x-python",
   "name": "python",
   "nbconvert_exporter": "python",
   "pygments_lexer": "ipython3",
   "version": "3.7.6-final"
  },
  "orig_nbformat": 2,
  "kernelspec": {
   "name": "python3",
   "display_name": "Python 3"
  }
 },
 "nbformat": 4,
 "nbformat_minor": 2
}